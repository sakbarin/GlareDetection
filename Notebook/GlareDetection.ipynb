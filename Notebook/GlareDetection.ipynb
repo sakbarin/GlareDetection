{
 "cells": [
  {
   "cell_type": "code",
   "execution_count": 4,
   "metadata": {},
   "outputs": [],
   "source": [
    "import datetime\n",
    "import time\n",
    "import json\n",
    "\n",
    "from dateutil import tz\n",
    "from timezonefinder import TimezoneFinder\n",
    "\n",
    "import astropy\n",
    "import astropy.coordinates as coord\n",
    "import astropy.units as u\n",
    "\n",
    "from astropy.coordinates import get_sun, AltAz, EarthLocation\n",
    "from astropy.time import Time\n",
    "from astropy.utils import iers"
   ]
  },
  {
   "cell_type": "code",
   "execution_count": 6,
   "metadata": {},
   "outputs": [],
   "source": [
    "# the file used in astropy failed to download. I used the following mirror:\n",
    "iers.Conf.iers_auto_url.set('ftp://cddis.gsfc.nasa.gov/pub/products/iers/finals2000A.all')"
   ]
  },
  {
   "cell_type": "code",
   "execution_count": 8,
   "metadata": {},
   "outputs": [],
   "source": [
    "data = {\n",
    "    'lat': 49.2699648,\n",
    "    'long': -123.1290368,\n",
    "    'epoch': 1588704959.321,\n",
    "    'orientation': -10.2\n",
    "}"
   ]
  },
  {
   "cell_type": "code",
   "execution_count": 9,
   "metadata": {},
   "outputs": [],
   "source": [
    "class TimeZoneUtils():\n",
    "    def __init__(self):\n",
    "        self.tz_finder = TimezoneFinder()\n",
    "        \n",
    "    # get the time zone using lat and long\n",
    "    def get_time_zone(self, lat, long):\n",
    "        return self.tz_finder.timezone_at(lat=lat, lng=long)    "
   ]
  },
  {
   "cell_type": "code",
   "execution_count": 13,
   "metadata": {},
   "outputs": [],
   "source": [
    "class DateUtils():\n",
    "    def __init__(self, tz_utils):\n",
    "        self.tz_utils = tz_utils\n",
    "        pass\n",
    "\n",
    "    # get the UTC datetime\n",
    "    def get_utc_datetime(self, epoch):\n",
    "        utc_date = datetime.datetime.utcfromtimestamp(epoch)\n",
    "        return utc_date\n",
    "\n",
    "    \n",
    "    # convert UCT to local datetime\n",
    "    def get_local_datetime(self, epoch, lat, long):\n",
    "        utc_datetime = self.get_utc_datetime(epoch)\n",
    "        \n",
    "        timezone_from = tz.gettz('UTC')\n",
    "        timezone_to = tz.gettz(self.tz_utils.get_time_zone(lat, long))\n",
    "        \n",
    "        utc_datetime = utc_datetime.replace(tzinfo=timezone_from)\n",
    "        local_datetime = utc_datetime.astimezone(timezone_to)\n",
    "        \n",
    "        local_datetime = local_datetime.strftime('%Y-%m-%d %H:%M:%S.%f')\n",
    "        return datetime.datetime.strptime(local_datetime, '%Y-%m-%d %H:%M:%S.%f')"
   ]
  },
  {
   "cell_type": "code",
   "execution_count": 14,
   "metadata": {},
   "outputs": [],
   "source": [
    "tz_utils = TimeZoneUtils()\n",
    "date_utils = DateUtils(tz_utils)"
   ]
  },
  {
   "cell_type": "code",
   "execution_count": 20,
   "metadata": {},
   "outputs": [
    {
     "name": "stdout",
     "output_type": "stream",
     "text": [
      "Picture is taken at 2020-05-05 18:55:59.321000 - UTC time zone.\n",
      "Picture is taken at 2020-05-05 11:55:59.321000 - America/Vancouver time zone.\n"
     ]
    }
   ],
   "source": [
    "utc_datetime = date_utils.get_utc_datetime(data['epoch'])\n",
    "local_datetime = date_utils.get_local_datetime(data['epoch'], data['lat'], data['long'])\n",
    "local_timezone = tz_utils.get_time_zone(data['lat'], data['long'])\n",
    "\n",
    "print('Picture is taken at %s - UTC time zone.' % utc_datetime)\n",
    "print('Picture is taken at %s - %s time zone.' % (local_datetime, local_timezone))"
   ]
  },
  {
   "cell_type": "code",
   "execution_count": 21,
   "metadata": {},
   "outputs": [],
   "source": [
    "AZIMUTHAL_DIFF_BOUNDARY = 30\n",
    "SUN_ALTITUDE_BOUNDARY = 45"
   ]
  },
  {
   "cell_type": "code",
   "execution_count": 22,
   "metadata": {},
   "outputs": [],
   "source": [
    "class CoordinationUtils():\n",
    "    def __init__(self, date_utils, lat, long, epoch, orientation):\n",
    "        self.data_utils = date_utils\n",
    "\n",
    "        self.pic_location = coord.EarthLocation(lat=lat * u.deg, lon=long * u.deg)\n",
    "        self.pic_datetime = Time(date_utils.get_utc_datetime(epoch))\n",
    "        \n",
    "        self.azimuth = 0 \n",
    "        self.altitude = 0 \n",
    "        self.orientation = orientation\n",
    "        \n",
    "        self.sun = coord.get_sun(self.pic_datetime)\n",
    "    \n",
    "    def __compute_azimuth_and_altitude(self):\n",
    "        alt_and_az = coord.AltAz(location=self.pic_location, obstime=self.pic_datetime)\n",
    "        self.altitude = self.sun.transform_to(alt_and_az).alt.degree\n",
    "        self.azimuth = self.sun.transform_to(alt_and_az).az.degree\n",
    "\n",
    "    def detect_glare(self):\n",
    "        self.__compute_azimuth_and_altitude()\n",
    "        \n",
    "        temp_orientation = (self.orientation + 360) % 360\n",
    "\n",
    "        phi = abs(self.azimuth - temp_orientation) % 360\n",
    "        if (phi > 180):\n",
    "            azimuth_distance = 360 - phi\n",
    "        else:\n",
    "            azimuth_distance = phi\n",
    "        \n",
    "        if (azimuth_distance <= AZIMUTHAL_DIFF_BOUNDARY and self.altitude <= SUN_ALTITUDE_BOUNDARY):\n",
    "            return True\n",
    "\n",
    "        return False\n",
    "    \n",
    "    def print_glare_data(self):\n",
    "        print('              azimuth:', azimuth)\n",
    "        print('          orientation:', orientation)\n",
    "        print('             altitude:', altitude)\n",
    "        print('azimuth - orientation:', azimuth_distance)\n",
    "        print('             altitude:', altitude)\n",
    "\n",
    "    def print_picture_data(self):\n",
    "        print('Picture location:', self.pic_location)\n",
    "        print('    Picture time:', self.pic_datetime)\n",
    "        print('             Sun:', self.sun)"
   ]
  },
  {
   "cell_type": "code",
   "execution_count": 23,
   "metadata": {},
   "outputs": [],
   "source": [
    "coord_utils = CoordinationUtils(date_utils, data['lat'], data['long'], data['epoch'], data['orientation'])"
   ]
  },
  {
   "cell_type": "code",
   "execution_count": 24,
   "metadata": {},
   "outputs": [
    {
     "data": {
      "text/plain": [
       "'{\"glare\": false}'"
      ]
     },
     "execution_count": 24,
     "metadata": {},
     "output_type": "execute_result"
    }
   ],
   "source": [
    "glare = json.dumps({'glare': coord_utils.detect_glare()})\n",
    "glare"
   ]
  },
  {
   "cell_type": "code",
   "execution_count": null,
   "metadata": {},
   "outputs": [],
   "source": []
  }
 ],
 "metadata": {
  "kernelspec": {
   "display_name": "Python 3",
   "language": "python",
   "name": "python3"
  },
  "language_info": {
   "codemirror_mode": {
    "name": "ipython",
    "version": 3
   },
   "file_extension": ".py",
   "mimetype": "text/x-python",
   "name": "python",
   "nbconvert_exporter": "python",
   "pygments_lexer": "ipython3",
   "version": "3.6.9"
  }
 },
 "nbformat": 4,
 "nbformat_minor": 2
}
